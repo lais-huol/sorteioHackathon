{
 "cells": [
  {
   "cell_type": "code",
   "execution_count": 48,
   "metadata": {},
   "outputs": [],
   "source": [
    "import pandas as pd\n",
    "import numpy as np"
   ]
  },
  {
   "cell_type": "code",
   "execution_count": 49,
   "metadata": {},
   "outputs": [
    {
     "name": "stdout",
     "output_type": "stream",
     "text": [
      "  nomePessoa\n",
      "0    Ricardo\n",
      "1      João \n",
      "2      Maria\n",
      "3      Joana\n",
      "4     Bianca\n",
      "5     Marcos\n"
     ]
    }
   ],
   "source": [
    "participantes = pd.read_csv(\"pessoas.csv\")\n",
    "print (participantes)"
   ]
  },
  {
   "cell_type": "markdown",
   "metadata": {},
   "source": [
    "### Precisamos dividir os grupos seguindo a equação diofantina 4Y + 3X = N, sendo n a quantidade de participantes, logo, para ser possível a divisão em grupos de 4 e 3, é necessário que N seja maior que 5.\n",
    "\n",
    "Quantidade de grupos com 3: `(-N + ((N + 3) / 4) * 4)`\n",
    "\n",
    "Quantidade de grupos com 4: `(N - 3 *((N + 3) / 4))`\n",
    "\n",
    "**O algoritmo só funciona para N > 5.**\n",
    "\n",
    "#### Explicando o algoritmo:\n",
    "\n",
    "Para cada 4 grupos de 3 que eu aumento, eu perco 3 grupos de 4. Logo, para a quantidade de grupos de 4 ficar positiva, é necessário aumentar de 4 em 4.\n",
    "\n",
    "`((N + 3) / 4)` é a quantidade mínima de vezes que eu preciso aumentar os números de 3 para passar de N, que é o teto de N/4.\n",
    "\n",
    "\n",
    "Obrigado a [Victor Agnez](https://github.com/victoragnez) pela preciosa ajuda e vistoria do código."
   ]
  },
  {
   "cell_type": "code",
   "execution_count": 50,
   "metadata": {},
   "outputs": [
    {
     "name": "stdout",
     "output_type": "stream",
     "text": [
      "Grupos de três: 2.\n",
      "Grupos de quatro: 0.\n"
     ]
    }
   ],
   "source": [
    "N = participantes['nomePessoa'].count()\n",
    "\n",
    "qtdTres = -N\n",
    "\n",
    "qtdQuatro = N\n",
    "\n",
    "teto = (N + 3) // 4\n",
    "\n",
    "qtdTres += teto * 4\n",
    "qtdQuatro -= teto * 3\n",
    "\n",
    "\n",
    "print ('Grupos de três: {}.\\nGrupos de quatro: {}.'.format(qtdTres, qtdQuatro))\n"
   ]
  },
  {
   "cell_type": "code",
   "execution_count": 51,
   "metadata": {},
   "outputs": [],
   "source": [
    "grupos = []\n",
    "\n",
    "while qtdTres > 0:    \n",
    "    try:\n",
    "        # Sorteia um grupo\n",
    "        grupo = participantes.sample(n=3)\n",
    "        grupos.append(grupo)\n",
    "        # Remove o grupo sorteado do dataframe\n",
    "        participantes = participantes.drop(grupo.index)\n",
    "        qtdTres -= 1\n",
    "    except ValueError:\n",
    "        break\n",
    "        \n",
    "while qtdQuatro > 0:    \n",
    "    try:\n",
    "        # Sorteia um grupo\n",
    "        grupo = participantes.sample(n=4)\n",
    "        grupos.append(grupo)\n",
    "        # Remove o grupo sorteado do dataframe\n",
    "        participantes = participantes.drop(grupo.index)\n",
    "        qtdQuatro -= 1\n",
    "    except ValueError:\n",
    "        break"
   ]
  },
  {
   "cell_type": "code",
   "execution_count": 52,
   "metadata": {},
   "outputs": [
    {
     "name": "stdout",
     "output_type": "stream",
     "text": [
      "Grupo 1\n",
      "  nomePessoa\n",
      "5     Marcos\n",
      "0    Ricardo\n",
      "1      João \n",
      "Grupo 2\n",
      "  nomePessoa\n",
      "2      Maria\n",
      "4     Bianca\n",
      "3      Joana\n"
     ]
    }
   ],
   "source": [
    "for i, grupo in enumerate(grupos):\n",
    "    print(\"Grupo\", (i+1))\n",
    "    print(grupo)"
   ]
  },
  {
   "cell_type": "code",
   "execution_count": null,
   "metadata": {},
   "outputs": [],
   "source": []
  }
 ],
 "metadata": {
  "kernelspec": {
   "display_name": "Python 3",
   "language": "python",
   "name": "python3"
  },
  "language_info": {
   "codemirror_mode": {
    "name": "ipython",
    "version": 3
   },
   "file_extension": ".py",
   "mimetype": "text/x-python",
   "name": "python",
   "nbconvert_exporter": "python",
   "pygments_lexer": "ipython3",
   "version": "3.6.5"
  }
 },
 "nbformat": 4,
 "nbformat_minor": 2
}
