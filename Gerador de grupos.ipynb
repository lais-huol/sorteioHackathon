{
 "cells": [
  {
   "cell_type": "code",
   "execution_count": 1,
   "metadata": {},
   "outputs": [],
   "source": [
    "import pandas as pd\n",
    "import numpy as np"
   ]
  },
  {
   "cell_type": "code",
   "execution_count": 2,
   "metadata": {},
   "outputs": [
    {
     "name": "stdout",
     "output_type": "stream",
     "text": [
      "  nomePessoa\n",
      "0    Ricardo\n",
      "1      João \n",
      "2      Maria\n",
      "3      Joana\n",
      "4     Bianca\n",
      "5     Marcos\n"
     ]
    }
   ],
   "source": [
    "participantes = pd.read_csv(\"pessoas.csv\")\n",
    "print (participantes)"
   ]
  },
  {
   "cell_type": "code",
   "execution_count": 3,
   "metadata": {},
   "outputs": [],
   "source": [
    "grupos = []\n",
    "\n",
    "while participantes['nomePessoa'].count() > 1:    \n",
    "    try:\n",
    "        # Sorteia um grupo\n",
    "        grupo = participantes.sample(n=3)\n",
    "        grupos.append(grupo)\n",
    "        # Remove o grupo sorteado do dataframe\n",
    "        participantes = participantes.drop(grupo.index)\n",
    "    except ValueError:\n",
    "        break"
   ]
  },
  {
   "cell_type": "code",
   "execution_count": 4,
   "metadata": {
    "scrolled": true
   },
   "outputs": [],
   "source": [
    "if participantes['nomePessoa'].count() < 4:\n",
    "    grupos.append(participantes)    "
   ]
  },
  {
   "cell_type": "code",
   "execution_count": 5,
   "metadata": {},
   "outputs": [
    {
     "name": "stdout",
     "output_type": "stream",
     "text": [
      "Grupo 1\n",
      "  nomePessoa\n",
      "5     Marcos\n",
      "3      Joana\n",
      "4     Bianca\n",
      "Grupo 2\n",
      "  nomePessoa\n",
      "0    Ricardo\n",
      "1      João \n",
      "2      Maria\n",
      "Grupo 3\n",
      "Empty DataFrame\n",
      "Columns: [nomePessoa]\n",
      "Index: []\n"
     ]
    }
   ],
   "source": [
    "for i, grupo in enumerate(grupos):\n",
    "    print(\"Grupo\", (i+1))\n",
    "    print(grupo)"
   ]
  },
  {
   "cell_type": "code",
   "execution_count": null,
   "metadata": {},
   "outputs": [],
   "source": []
  }
 ],
 "metadata": {
  "kernelspec": {
   "display_name": "Python 3",
   "language": "python",
   "name": "python3"
  },
  "language_info": {
   "codemirror_mode": {
    "name": "ipython",
    "version": 3
   },
   "file_extension": ".py",
   "mimetype": "text/x-python",
   "name": "python",
   "nbconvert_exporter": "python",
   "pygments_lexer": "ipython3",
   "version": "3.6.5"
  }
 },
 "nbformat": 4,
 "nbformat_minor": 2
}
